{
 "cells": [
  {
   "cell_type": "code",
   "execution_count": 3,
   "id": "f1242792",
   "metadata": {},
   "outputs": [
    {
     "name": "stdout",
     "output_type": "stream",
     "text": [
      "Erik\n",
      "27\n",
      "137\n"
     ]
    }
   ],
   "source": [
    "class student:\n",
    "    #constructor\n",
    "    def __init__(self,name,age,studentid):\n",
    "        self.name = name\n",
    "        self.age = age\n",
    "        self.studentid = studentid\n",
    "\n",
    "#creating object of class\n",
    "stud = student('Erik', 27, 137)\n",
    "\n",
    "#calling public method of the class\n",
    "print(stud.name)\n",
    "print(stud.age)\n",
    "print(stud.studentid)\n"
   ]
  },
  {
   "cell_type": "code",
   "execution_count": 1,
   "id": "eb8a67c4",
   "metadata": {},
   "outputs": [
    {
     "name": "stdout",
     "output_type": "stream",
     "text": [
      "Name:  Erik Salary: 100000\n"
     ]
    }
   ],
   "source": [
    "class Employee: \n",
    "    def __init__(self, name, salary):  \n",
    "        self.name = name  \n",
    "        self.__salary = salary \n",
    "  \n",
    "    def show(self): \n",
    "        print(\"Name: \", self.name, 'Salary:', self.__salary) \n",
    " \n",
    "emp = Employee('Erik', 100000) \n",
    " \n",
    "emp.show() "
   ]
  },
  {
   "cell_type": "code",
   "execution_count": null,
   "id": "66b3042d",
   "metadata": {},
   "outputs": [],
   "source": []
  },
  {
   "cell_type": "code",
   "execution_count": 12,
   "id": "e3b712ce",
   "metadata": {
    "scrolled": true
   },
   "outputs": [
    {
     "name": "stdout",
     "output_type": "stream",
     "text": [
      "EMmployee name:  Jessa\n",
      "WOrking on projekt:  NLP\n"
     ]
    }
   ],
   "source": []
  },
  {
   "cell_type": "code",
   "execution_count": null,
   "id": "052909d1",
   "metadata": {},
   "outputs": [],
   "source": []
  }
 ],
 "metadata": {
  "kernelspec": {
   "display_name": "Python 3",
   "language": "python",
   "name": "python3"
  },
  "language_info": {
   "codemirror_mode": {
    "name": "ipython",
    "version": 3
   },
   "file_extension": ".py",
   "mimetype": "text/x-python",
   "name": "python",
   "nbconvert_exporter": "python",
   "pygments_lexer": "ipython3",
   "version": "3.8.8"
  }
 },
 "nbformat": 4,
 "nbformat_minor": 5
}
